{
 "cells": [
  {
   "cell_type": "code",
   "execution_count": 2,
   "id": "cbaa4020",
   "metadata": {},
   "outputs": [],
   "source": [
    "%load_ext autoreload\n",
    "%autoreload 2"
   ]
  },
  {
   "cell_type": "code",
   "execution_count": 3,
   "id": "6bf1c661",
   "metadata": {},
   "outputs": [],
   "source": [
    "import os\n",
    "import sys\n",
    "import numpy as np\n",
    "import torch\n",
    "import gpytorch\n",
    "import matplotlib.pyplot as plt\n",
    "import pandas as pd\n",
    "import xarray as xr\n",
    "import tqdm\n",
    "import joblib\n",
    "import utils as utils\n",
    "from sklearn.linear_model import LinearRegression\n",
    "\n",
    "base_dir = os.path.join(os.getcwd(), '..')\n",
    "sys.path.append(base_dir)\n",
    "\n",
    "import fit_spatial_Plain_GP as plaingp\n",
    "import fit_spatial_FaIRGP as fairgp\n",
    "from src.models.utils_spatial import compute_means\n",
    "from src.evaluation.metrics import spearman_correlation"
   ]
  },
  {
   "cell_type": "code",
   "execution_count": 4,
   "id": "4dd62e3d",
   "metadata": {},
   "outputs": [],
   "source": [
    "def weighted_mean(x, wlat):\n",
    "    mu = torch.sum(x * wlat, dim=(1, 2)) / (x.size(2) * wlat.sum())\n",
    "    return mu\n",
    "\n",
    "def compute_deterministic_metrics(prediction, groundtruth, wlat):\n",
    "    # Compute raw distances metrics\n",
    "    difference = prediction.sub(groundtruth)\n",
    "    mean_bias = weighted_mean(difference, wlat).mean()\n",
    "    rmse = weighted_mean(torch.square(difference), wlat).mean().sqrt()\n",
    "    mae = weighted_mean(torch.abs(difference), wlat).mean()\n",
    "\n",
    "    # Compute spearman correlation\n",
    "    corr = spearman_correlation(prediction.flatten(), groundtruth.flatten())\n",
    "\n",
    "    # Encapsulate results in output dictionnary\n",
    "    output = {'mb': mean_bias.item(),\n",
    "              'rmse': rmse.item(),\n",
    "              'mae': mae.item(),\n",
    "              'corr': corr}\n",
    "    return output\n",
    "\n",
    "def compute_probabilistic_metrics(prediction, groundtruth, wlat):\n",
    "    ll = weighted_mean(prediction.log_prob(groundtruth), wlat).mean()\n",
    "    lb, ub = prediction.icdf(torch.tensor(0.025)), prediction.icdf(torch.tensor(0.975))\n",
    "    mask = (groundtruth >= lb) & (groundtruth <= ub)\n",
    "    calib95 = weighted_mean(mask.float(), wlat).mean()\n",
    "    \n",
    "    mu, sigma = prediction.mean, prediction.stddev\n",
    "    y = (groundtruth - mu) / sigma\n",
    "    norm = torch.distributions.Normal(0, 1)\n",
    "    crps = sigma * (y * (2 * norm.cdf(y) - 1) + 2 * norm.log_prob(y).exp() - 1 / np.sqrt(np.pi))\n",
    "    crps = weighted_mean(crps, wlat).mean()\n",
    "    \n",
    "    output = {'ll': ll.item(),\n",
    "              'calib95': calib95.item(),\n",
    "              'CRPS': crps.item()}\n",
    "    return output"
   ]
  },
  {
   "cell_type": "code",
   "execution_count": 5,
   "id": "48aecff7",
   "metadata": {},
   "outputs": [],
   "source": [
    "ssps = ['SSP126', 'SSP245', 'SSP370', 'SSP585']"
   ]
  },
  {
   "cell_type": "markdown",
   "id": "05ef452d",
   "metadata": {},
   "source": [
    "## FaIR pattern scaling"
   ]
  },
  {
   "cell_type": "markdown",
   "id": "d44fd623",
   "metadata": {},
   "source": [
    "### SSP126"
   ]
  },
  {
   "cell_type": "code",
   "execution_count": 5,
   "id": "ece544b8",
   "metadata": {},
   "outputs": [],
   "source": [
    "train_cfg = {'dataset' : {'dirpath': '../data/', 'keys': ['historical', 'ssp245', 'ssp370', 'ssp585']}}\n",
    "train_data = plaingp.make_data(train_cfg)\n",
    "\n",
    "test_cfg = {'dataset' : {'dirpath': '../data/', 'keys': ['ssp126']}}\n",
    "test_data = plaingp.make_data(test_cfg)"
   ]
  },
  {
   "cell_type": "code",
   "execution_count": 6,
   "id": "885f5254",
   "metadata": {},
   "outputs": [
    {
     "data": {
      "text/plain": [
       "LinearRegression()"
      ]
     },
     "execution_count": 6,
     "metadata": {},
     "output_type": "execute_result"
    }
   ],
   "source": [
    "scenarios = train_data.scenarios\n",
    "all_tas = scenarios.tas\n",
    "wlat = torch.cos(torch.deg2rad(scenarios[0].lat)).clip(min=torch.finfo(torch.float64).eps)[:, None]\n",
    "glob_tas = weighted_mean(all_tas, wlat)\n",
    "\n",
    "pattern_scaling = LinearRegression()\n",
    "pattern_scaling.fit(glob_tas[:, None], all_tas.reshape(all_tas.size(0), -1))"
   ]
  },
  {
   "cell_type": "code",
   "execution_count": 7,
   "id": "7e84e6d0",
   "metadata": {},
   "outputs": [],
   "source": [
    "time_slice = slice(-21, None)\n",
    "\n",
    "pred = compute_means(test_data.scenarios, pattern_scaling)['ssp126']\n",
    "metrics_ssp126 = compute_deterministic_metrics(pred[time_slice],\n",
    "                                               test_data.scenarios[0].tas[time_slice],\n",
    "                                               wlat)"
   ]
  },
  {
   "cell_type": "markdown",
   "id": "57078d49",
   "metadata": {},
   "source": [
    "### SSP245"
   ]
  },
  {
   "cell_type": "code",
   "execution_count": 8,
   "id": "2fe18469",
   "metadata": {},
   "outputs": [],
   "source": [
    "train_cfg = {'dataset' : {'dirpath': '../data/', 'keys': ['historical', 'ssp126', 'ssp370', 'ssp585']}}\n",
    "train_data = plaingp.make_data(train_cfg)\n",
    "\n",
    "test_cfg = {'dataset' : {'dirpath': '../data/', 'keys': ['ssp245']}}\n",
    "test_data = plaingp.make_data(test_cfg)"
   ]
  },
  {
   "cell_type": "code",
   "execution_count": 9,
   "id": "58deffa3",
   "metadata": {},
   "outputs": [
    {
     "data": {
      "text/plain": [
       "LinearRegression()"
      ]
     },
     "execution_count": 9,
     "metadata": {},
     "output_type": "execute_result"
    }
   ],
   "source": [
    "scenarios = train_data.scenarios\n",
    "all_tas = scenarios.tas\n",
    "wlat = torch.cos(torch.deg2rad(scenarios[0].lat)).clip(min=torch.finfo(torch.float64).eps)[:, None]\n",
    "glob_tas = weighted_mean(all_tas, wlat)\n",
    "\n",
    "pattern_scaling = LinearRegression()\n",
    "pattern_scaling.fit(glob_tas[:, None], all_tas.reshape(all_tas.size(0), -1))"
   ]
  },
  {
   "cell_type": "code",
   "execution_count": 10,
   "id": "a77e8f2f",
   "metadata": {},
   "outputs": [],
   "source": [
    "time_slice = slice(-21, None)\n",
    "\n",
    "pred = compute_means(test_data.scenarios, pattern_scaling)['ssp245']\n",
    "metrics_ssp245 = compute_deterministic_metrics(pred[time_slice],\n",
    "                                               test_data.scenarios[0].tas[time_slice],\n",
    "                                               wlat)"
   ]
  },
  {
   "cell_type": "markdown",
   "id": "a51ee218",
   "metadata": {},
   "source": [
    "### SSP370"
   ]
  },
  {
   "cell_type": "code",
   "execution_count": 11,
   "id": "68693b9e",
   "metadata": {},
   "outputs": [],
   "source": [
    "train_cfg = {'dataset' : {'dirpath': '../data/', 'keys': ['historical', 'ssp126', 'ssp245', 'ssp585']}}\n",
    "train_data = plaingp.make_data(train_cfg)\n",
    "\n",
    "test_cfg = {'dataset' : {'dirpath': '../data/', 'keys': ['ssp370']}}\n",
    "test_data = plaingp.make_data(test_cfg)"
   ]
  },
  {
   "cell_type": "code",
   "execution_count": 12,
   "id": "01e3fbd7",
   "metadata": {},
   "outputs": [
    {
     "data": {
      "text/plain": [
       "LinearRegression()"
      ]
     },
     "execution_count": 12,
     "metadata": {},
     "output_type": "execute_result"
    }
   ],
   "source": [
    "scenarios = train_data.scenarios\n",
    "all_tas = scenarios.tas\n",
    "wlat = torch.cos(torch.deg2rad(scenarios[0].lat)).clip(min=torch.finfo(torch.float64).eps)[:, None]\n",
    "glob_tas = weighted_mean(all_tas, wlat)\n",
    "\n",
    "pattern_scaling = LinearRegression()\n",
    "pattern_scaling.fit(glob_tas[:, None], all_tas.reshape(all_tas.size(0), -1))"
   ]
  },
  {
   "cell_type": "code",
   "execution_count": 13,
   "id": "a0b7047e",
   "metadata": {},
   "outputs": [],
   "source": [
    "time_slice = slice(-21, None)\n",
    "\n",
    "pred = compute_means(test_data.scenarios, pattern_scaling)['ssp370']\n",
    "metrics_ssp370 = compute_deterministic_metrics(pred[time_slice],\n",
    "                                               test_data.scenarios[0].tas[time_slice],\n",
    "                                               wlat)"
   ]
  },
  {
   "cell_type": "markdown",
   "id": "45bfc5aa",
   "metadata": {},
   "source": [
    "### SSP585"
   ]
  },
  {
   "cell_type": "code",
   "execution_count": 6,
   "id": "a8bde1e8",
   "metadata": {},
   "outputs": [],
   "source": [
    "train_cfg = {'dataset' : {'dirpath': '../data/', 'keys': ['historical', 'ssp126', 'ssp245', 'ssp370']}, 'response_var': 'pr'}\n",
    "train_data = plaingp.make_data(train_cfg)\n",
    "\n",
    "test_cfg = {'dataset' : {'dirpath': '../data/', 'keys': ['ssp585']}, 'response_var': 'pr'}\n",
    "test_data = plaingp.make_data(test_cfg)"
   ]
  },
  {
   "cell_type": "code",
   "execution_count": 7,
   "id": "71ffe7fb",
   "metadata": {},
   "outputs": [
    {
     "data": {
      "text/html": [
       "<style>#sk-container-id-1 {color: black;}#sk-container-id-1 pre{padding: 0;}#sk-container-id-1 div.sk-toggleable {background-color: white;}#sk-container-id-1 label.sk-toggleable__label {cursor: pointer;display: block;width: 100%;margin-bottom: 0;padding: 0.3em;box-sizing: border-box;text-align: center;}#sk-container-id-1 label.sk-toggleable__label-arrow:before {content: \"▸\";float: left;margin-right: 0.25em;color: #696969;}#sk-container-id-1 label.sk-toggleable__label-arrow:hover:before {color: black;}#sk-container-id-1 div.sk-estimator:hover label.sk-toggleable__label-arrow:before {color: black;}#sk-container-id-1 div.sk-toggleable__content {max-height: 0;max-width: 0;overflow: hidden;text-align: left;background-color: #f0f8ff;}#sk-container-id-1 div.sk-toggleable__content pre {margin: 0.2em;color: black;border-radius: 0.25em;background-color: #f0f8ff;}#sk-container-id-1 input.sk-toggleable__control:checked~div.sk-toggleable__content {max-height: 200px;max-width: 100%;overflow: auto;}#sk-container-id-1 input.sk-toggleable__control:checked~label.sk-toggleable__label-arrow:before {content: \"▾\";}#sk-container-id-1 div.sk-estimator input.sk-toggleable__control:checked~label.sk-toggleable__label {background-color: #d4ebff;}#sk-container-id-1 div.sk-label input.sk-toggleable__control:checked~label.sk-toggleable__label {background-color: #d4ebff;}#sk-container-id-1 input.sk-hidden--visually {border: 0;clip: rect(1px 1px 1px 1px);clip: rect(1px, 1px, 1px, 1px);height: 1px;margin: -1px;overflow: hidden;padding: 0;position: absolute;width: 1px;}#sk-container-id-1 div.sk-estimator {font-family: monospace;background-color: #f0f8ff;border: 1px dotted black;border-radius: 0.25em;box-sizing: border-box;margin-bottom: 0.5em;}#sk-container-id-1 div.sk-estimator:hover {background-color: #d4ebff;}#sk-container-id-1 div.sk-parallel-item::after {content: \"\";width: 100%;border-bottom: 1px solid gray;flex-grow: 1;}#sk-container-id-1 div.sk-label:hover label.sk-toggleable__label {background-color: #d4ebff;}#sk-container-id-1 div.sk-serial::before {content: \"\";position: absolute;border-left: 1px solid gray;box-sizing: border-box;top: 0;bottom: 0;left: 50%;z-index: 0;}#sk-container-id-1 div.sk-serial {display: flex;flex-direction: column;align-items: center;background-color: white;padding-right: 0.2em;padding-left: 0.2em;position: relative;}#sk-container-id-1 div.sk-item {position: relative;z-index: 1;}#sk-container-id-1 div.sk-parallel {display: flex;align-items: stretch;justify-content: center;background-color: white;position: relative;}#sk-container-id-1 div.sk-item::before, #sk-container-id-1 div.sk-parallel-item::before {content: \"\";position: absolute;border-left: 1px solid gray;box-sizing: border-box;top: 0;bottom: 0;left: 50%;z-index: -1;}#sk-container-id-1 div.sk-parallel-item {display: flex;flex-direction: column;z-index: 1;position: relative;background-color: white;}#sk-container-id-1 div.sk-parallel-item:first-child::after {align-self: flex-end;width: 50%;}#sk-container-id-1 div.sk-parallel-item:last-child::after {align-self: flex-start;width: 50%;}#sk-container-id-1 div.sk-parallel-item:only-child::after {width: 0;}#sk-container-id-1 div.sk-dashed-wrapped {border: 1px dashed gray;margin: 0 0.4em 0.5em 0.4em;box-sizing: border-box;padding-bottom: 0.4em;background-color: white;}#sk-container-id-1 div.sk-label label {font-family: monospace;font-weight: bold;display: inline-block;line-height: 1.2em;}#sk-container-id-1 div.sk-label-container {text-align: center;}#sk-container-id-1 div.sk-container {/* jupyter's `normalize.less` sets `[hidden] { display: none; }` but bootstrap.min.css set `[hidden] { display: none !important; }` so we also need the `!important` here to be able to override the default hidden behavior on the sphinx rendered scikit-learn.org. See: https://github.com/scikit-learn/scikit-learn/issues/21755 */display: inline-block !important;position: relative;}#sk-container-id-1 div.sk-text-repr-fallback {display: none;}</style><div id=\"sk-container-id-1\" class=\"sk-top-container\"><div class=\"sk-text-repr-fallback\"><pre>LinearRegression()</pre><b>In a Jupyter environment, please rerun this cell to show the HTML representation or trust the notebook. <br />On GitHub, the HTML representation is unable to render, please try loading this page with nbviewer.org.</b></div><div class=\"sk-container\" hidden><div class=\"sk-item\"><div class=\"sk-estimator sk-toggleable\"><input class=\"sk-toggleable__control sk-hidden--visually\" id=\"sk-estimator-id-1\" type=\"checkbox\" checked><label for=\"sk-estimator-id-1\" class=\"sk-toggleable__label sk-toggleable__label-arrow\">LinearRegression</label><div class=\"sk-toggleable__content\"><pre>LinearRegression()</pre></div></div></div></div></div>"
      ],
      "text/plain": [
       "LinearRegression()"
      ]
     },
     "execution_count": 7,
     "metadata": {},
     "output_type": "execute_result"
    }
   ],
   "source": [
    "scenarios = train_data.scenarios\n",
    "all_tas = scenarios.response_var\n",
    "wlat = torch.cos(torch.deg2rad(scenarios[0].lat)).clip(min=torch.finfo(torch.float64).eps)[:, None]\n",
    "glob_tas = weighted_mean(all_tas, wlat)\n",
    "\n",
    "pattern_scaling = LinearRegression()\n",
    "pattern_scaling.fit(glob_tas[:, None], all_tas.reshape(all_tas.size(0), -1))"
   ]
  },
  {
   "cell_type": "code",
   "execution_count": 8,
   "id": "813d32ea",
   "metadata": {},
   "outputs": [],
   "source": [
    "time_slice = slice(-21, None)\n",
    "\n",
    "pred = compute_means(test_data.scenarios, pattern_scaling)['ssp585']\n",
    "metrics_ssp585 = compute_deterministic_metrics(pred[time_slice],\n",
    "                                               test_data.scenarios[0].response_var[time_slice],\n",
    "                                               wlat)"
   ]
  },
  {
   "cell_type": "code",
   "execution_count": 9,
   "id": "9d2f4b1b",
   "metadata": {},
   "outputs": [],
   "source": [
    "#metrics_pattern_scaling = [metrics_ssp126, metrics_ssp245, metrics_ssp370, metrics_ssp585]\n",
    "metrics_pattern_scaling = [metrics_ssp585]\n",
    "\n",
    "scores_pattern_scaling = pd.DataFrame(metrics_pattern_scaling)\n",
    "#scores_pattern_scaling.index = ssps\n",
    "\n",
    "scores_pattern_scaling.index = ['SSP585']\n",
    "scores_pattern_scaling.index.name = 'SSP'"
   ]
  },
  {
   "cell_type": "code",
   "execution_count": 10,
   "id": "fe1d0a52",
   "metadata": {},
   "outputs": [],
   "source": [
    "#metrics_pattern_scaling = [metrics_ssp126, metrics_ssp245, metrics_ssp370, metrics_ssp585]\n",
    "metrics_pattern_scaling = [metrics_ssp585]\n",
    "scores_pattern_scaling = pd.DataFrame(metrics_pattern_scaling)\n",
    "#scores_pattern_scaling.index = ssps\n",
    "scores_pattern_scaling.index = ['SSP585']\n",
    "scores_pattern_scaling.index.name = 'SSP'"
   ]
  },
  {
   "cell_type": "code",
   "execution_count": 11,
   "id": "f16a5485",
   "metadata": {},
   "outputs": [],
   "source": [
    "#scores_pattern_scaling\n",
    "metrics_pattern_scaling = [ metrics_ssp585]\n",
    "scores_pattern_scaling = pd.DataFrame(metrics_pattern_scaling)\n",
    "scores_pattern_scaling.index = [\"SSP585\"]\n",
    "scores_pattern_scaling.index.name = 'SSP'"
   ]
  },
  {
   "cell_type": "markdown",
   "id": "35d5bd40",
   "metadata": {},
   "source": [
    "## PlainGP"
   ]
  },
  {
   "cell_type": "markdown",
   "id": "77ff0495",
   "metadata": {},
   "source": [
    "### SSP126"
   ]
  },
  {
   "cell_type": "code",
   "execution_count": 39,
   "id": "e81e9b40",
   "metadata": {},
   "outputs": [
    {
     "ename": "KeyError",
     "evalue": "'response_var'",
     "output_type": "error",
     "traceback": [
      "\u001b[0;31m---------------------------------------------------------------------------\u001b[0m",
      "\u001b[0;31mKeyError\u001b[0m                                  Traceback (most recent call last)",
      "Cell \u001b[0;32mIn[39], line 2\u001b[0m\n\u001b[1;32m      1\u001b[0m train_cfg \u001b[38;5;241m=\u001b[39m {\u001b[38;5;124m'\u001b[39m\u001b[38;5;124mdataset\u001b[39m\u001b[38;5;124m'\u001b[39m : {\u001b[38;5;124m'\u001b[39m\u001b[38;5;124mdirpath\u001b[39m\u001b[38;5;124m'\u001b[39m: \u001b[38;5;124m'\u001b[39m\u001b[38;5;124m../data/\u001b[39m\u001b[38;5;124m'\u001b[39m, \u001b[38;5;124m'\u001b[39m\u001b[38;5;124mkeys\u001b[39m\u001b[38;5;124m'\u001b[39m: [\u001b[38;5;124m'\u001b[39m\u001b[38;5;124mhistorical\u001b[39m\u001b[38;5;124m'\u001b[39m, \u001b[38;5;124m'\u001b[39m\u001b[38;5;124mssp245\u001b[39m\u001b[38;5;124m'\u001b[39m, \u001b[38;5;124m'\u001b[39m\u001b[38;5;124mssp370\u001b[39m\u001b[38;5;124m'\u001b[39m, \u001b[38;5;124m'\u001b[39m\u001b[38;5;124mssp585\u001b[39m\u001b[38;5;124m'\u001b[39m]}}\n\u001b[0;32m----> 2\u001b[0m train_data \u001b[38;5;241m=\u001b[39m \u001b[43mplaingp\u001b[49m\u001b[38;5;241;43m.\u001b[39;49m\u001b[43mmake_data\u001b[49m\u001b[43m(\u001b[49m\u001b[43mtrain_cfg\u001b[49m\u001b[43m)\u001b[49m\n\u001b[1;32m      4\u001b[0m test_cfg \u001b[38;5;241m=\u001b[39m {\u001b[38;5;124m'\u001b[39m\u001b[38;5;124mdataset\u001b[39m\u001b[38;5;124m'\u001b[39m : {\u001b[38;5;124m'\u001b[39m\u001b[38;5;124mdirpath\u001b[39m\u001b[38;5;124m'\u001b[39m: \u001b[38;5;124m'\u001b[39m\u001b[38;5;124m../data/\u001b[39m\u001b[38;5;124m'\u001b[39m, \u001b[38;5;124m'\u001b[39m\u001b[38;5;124mkeys\u001b[39m\u001b[38;5;124m'\u001b[39m: [\u001b[38;5;124m'\u001b[39m\u001b[38;5;124mssp126\u001b[39m\u001b[38;5;124m'\u001b[39m]}}\n\u001b[1;32m      5\u001b[0m test_data \u001b[38;5;241m=\u001b[39m plaingp\u001b[38;5;241m.\u001b[39mmake_data(test_cfg)\n",
      "File \u001b[0;32m/data/skala/ForceSMIP/notebooks/../src/preprocessing/spatial/make_data.py:59\u001b[0m, in \u001b[0;36mmake_data\u001b[0;34m(cfg, sample_size)\u001b[0m\n\u001b[1;32m     56\u001b[0m input_xarrays\u001b[38;5;241m.\u001b[39mupdate(historical\u001b[38;5;241m=\u001b[39mload_emissions_dataset(os\u001b[38;5;241m.\u001b[39mpath\u001b[38;5;241m.\u001b[39mjoin(cfg[\u001b[38;5;124m'\u001b[39m\u001b[38;5;124mdataset\u001b[39m\u001b[38;5;124m'\u001b[39m][\u001b[38;5;124m'\u001b[39m\u001b[38;5;124mdirpath\u001b[39m\u001b[38;5;124m'\u001b[39m], \u001b[38;5;124m'\u001b[39m\u001b[38;5;124minputs_historical.nc\u001b[39m\u001b[38;5;124m'\u001b[39m)))\n\u001b[1;32m     57\u001b[0m output_xarrays\u001b[38;5;241m.\u001b[39mupdate(historical\u001b[38;5;241m=\u001b[39mload_response_dataset(os\u001b[38;5;241m.\u001b[39mpath\u001b[38;5;241m.\u001b[39mjoin(cfg[\u001b[38;5;124m'\u001b[39m\u001b[38;5;124mdataset\u001b[39m\u001b[38;5;124m'\u001b[39m][\u001b[38;5;124m'\u001b[39m\u001b[38;5;124mdirpath\u001b[39m\u001b[38;5;124m'\u001b[39m], \u001b[38;5;124m'\u001b[39m\u001b[38;5;124moutputs_historical.nc\u001b[39m\u001b[38;5;124m'\u001b[39m)))\n\u001b[0;32m---> 59\u001b[0m dep_var_name \u001b[38;5;241m=\u001b[39m \u001b[43mcfg\u001b[49m\u001b[43m[\u001b[49m\u001b[38;5;124;43m'\u001b[39;49m\u001b[38;5;124;43mresponse_var\u001b[39;49m\u001b[38;5;124;43m'\u001b[39;49m\u001b[43m]\u001b[49m\n\u001b[1;32m     61\u001b[0m \u001b[38;5;66;03m# Create scenario instances\u001b[39;00m\n\u001b[1;32m     62\u001b[0m hist_scenario \u001b[38;5;241m=\u001b[39m make_scenario(key\u001b[38;5;241m=\u001b[39m\u001b[38;5;124m'\u001b[39m\u001b[38;5;124mhistorical\u001b[39m\u001b[38;5;124m'\u001b[39m, inputs\u001b[38;5;241m=\u001b[39minput_xarrays, outputs\u001b[38;5;241m=\u001b[39moutput_xarrays,  dep_var_name\u001b[38;5;241m=\u001b[39mdep_var_name)\n",
      "\u001b[0;31mKeyError\u001b[0m: 'response_var'"
     ]
    }
   ],
   "source": [
    "train_cfg = {'dataset' : {'dirpath': '../data/', 'keys': ['historical', 'ssp245', 'ssp370', 'ssp585']}}\n",
    "train_data = plaingp.make_data(train_cfg)\n",
    "\n",
    "test_cfg = {'dataset' : {'dirpath': '../data/', 'keys': ['ssp126']}}\n",
    "test_data = plaingp.make_data(test_cfg)\n",
    "\n",
    "model = plaingp.make_model(train_cfg, train_data)\n",
    "state_dict = torch.load('../data/models/leave-one-out-ssp/ssp126/SpatialPlainGP/state_dict.pt')\n",
    "model.load_state_dict(state_dict)"
   ]
  },
  {
   "cell_type": "code",
   "execution_count": 21,
   "id": "6df21bb5",
   "metadata": {},
   "outputs": [],
   "source": [
    "test_scenarios = test_data.scenarios\n",
    "Xtest = test_scenarios.glob_inputs[:, 1:]\n",
    "Xtest = (Xtest - model.mu) / model.sigma\n",
    "test_tas = test_scenarios.tas\n",
    "model = model.eval()"
   ]
  },
  {
   "cell_type": "code",
   "execution_count": 22,
   "id": "5906e3b8",
   "metadata": {},
   "outputs": [],
   "source": [
    "with torch.no_grad():\n",
    "    posterior = model.posterior(Xtest, diag=False)\n",
    "    posterior = model.likelihood(posterior)"
   ]
  },
  {
   "cell_type": "code",
   "execution_count": 23,
   "id": "14cd3cbe",
   "metadata": {},
   "outputs": [],
   "source": [
    "nlat = len(test_scenarios[0].lat)\n",
    "nlon = len(test_scenarios[0].lon)\n",
    "ntimes = len(test_scenarios[0].timesteps)\n",
    "time_slice = slice(-21, None)\n",
    "\n",
    "prior_mean = model.mu_targets.view(1, nlat, nlon).repeat(ntimes, 1, 1)\n",
    "posterior_mean = posterior.mean.reshape(nlat, nlon, -1).permute(2, 0, 1)\n",
    "posterior_correction =  model.sigma_targets.view(1, nlat, nlon) * posterior_mean\n",
    "posterior_mean = prior_mean + posterior_mean\n",
    "\n",
    "posterior_stddev = posterior.stddev.reshape(nlat, nlon, -1).permute(2, 0, 1)\n",
    "posterior_stddev = model.sigma_targets.view(1, nlat, nlon) * posterior_stddev\n",
    "\n",
    "prediction = torch.distributions.Normal(posterior_mean[time_slice], posterior_stddev[time_slice])\n",
    "groundtruth = test_tas[time_slice]\n",
    "wlat = torch.cos(torch.deg2rad(test_scenarios[0].lat)).clip(min=torch.finfo(torch.float64).eps)[:, None]"
   ]
  },
  {
   "cell_type": "code",
   "execution_count": 24,
   "id": "24c881c7",
   "metadata": {},
   "outputs": [],
   "source": [
    "metrics_ssp126 = {**compute_deterministic_metrics(prediction.mean, groundtruth, wlat),\n",
    "                  **compute_probabilistic_metrics(prediction, groundtruth, wlat)}"
   ]
  },
  {
   "cell_type": "markdown",
   "id": "b8cc39c8",
   "metadata": {},
   "source": [
    "### SSP245"
   ]
  },
  {
   "cell_type": "code",
   "execution_count": 25,
   "id": "25fca91f",
   "metadata": {},
   "outputs": [
    {
     "data": {
      "text/plain": [
       "<All keys matched successfully>"
      ]
     },
     "execution_count": 25,
     "metadata": {},
     "output_type": "execute_result"
    }
   ],
   "source": [
    "train_cfg = {'dataset' : {'dirpath': '../data/', 'keys': ['historical', 'ssp126', 'ssp370', 'ssp585']}}\n",
    "train_data = plaingp.make_data(train_cfg)\n",
    "\n",
    "test_cfg = {'dataset' : {'dirpath': '../data/', 'keys': ['ssp245']}}\n",
    "test_data = plaingp.make_data(test_cfg)\n",
    "\n",
    "model = plaingp.make_model(train_cfg, train_data)\n",
    "state_dict = torch.load('../data/models/leave-one-out-ssp/ssp245/SpatialPlainGP/state_dict.pt')\n",
    "model.load_state_dict(state_dict)"
   ]
  },
  {
   "cell_type": "code",
   "execution_count": 26,
   "id": "deadcf14",
   "metadata": {},
   "outputs": [],
   "source": [
    "test_scenarios = test_data.scenarios\n",
    "Xtest = test_scenarios.glob_inputs[:, 1:]\n",
    "Xtest = (Xtest - model.mu) / model.sigma\n",
    "test_tas = test_scenarios.tas\n",
    "model = model.eval()"
   ]
  },
  {
   "cell_type": "code",
   "execution_count": 27,
   "id": "4d5afbe4",
   "metadata": {},
   "outputs": [],
   "source": [
    "with torch.no_grad():\n",
    "    posterior = model.posterior(Xtest, diag=False)\n",
    "    posterior = model.likelihood(posterior)"
   ]
  },
  {
   "cell_type": "code",
   "execution_count": 28,
   "id": "9de5aab2",
   "metadata": {},
   "outputs": [],
   "source": [
    "nlat = len(test_scenarios[0].lat)\n",
    "nlon = len(test_scenarios[0].lon)\n",
    "ntimes = len(test_scenarios[0].timesteps)\n",
    "time_slice = slice(-21, None)\n",
    "\n",
    "prior_mean = model.mu_targets.view(1, nlat, nlon).repeat(ntimes, 1, 1)\n",
    "posterior_mean = posterior.mean.reshape(nlat, nlon, -1).permute(2, 0, 1)\n",
    "posterior_correction =  model.sigma_targets.view(1, nlat, nlon) * posterior_mean\n",
    "posterior_mean = prior_mean + posterior_mean\n",
    "\n",
    "posterior_stddev = posterior.stddev.reshape(nlat, nlon, -1).permute(2, 0, 1)\n",
    "posterior_stddev = model.sigma_targets.view(1, nlat, nlon) * posterior_stddev\n",
    "\n",
    "prediction = torch.distributions.Normal(posterior_mean[time_slice], posterior_stddev[time_slice])\n",
    "groundtruth = test_tas[time_slice]\n",
    "wlat = torch.cos(torch.deg2rad(test_scenarios[0].lat)).clip(min=torch.finfo(torch.float64).eps)[:, None]"
   ]
  },
  {
   "cell_type": "code",
   "execution_count": 29,
   "id": "a848c26b",
   "metadata": {},
   "outputs": [],
   "source": [
    "metrics_ssp245 = {**compute_deterministic_metrics(prediction.mean, groundtruth, wlat),\n",
    "                  **compute_probabilistic_metrics(prediction, groundtruth, wlat)}"
   ]
  },
  {
   "cell_type": "markdown",
   "id": "82678ed2",
   "metadata": {},
   "source": [
    "### SSP370"
   ]
  },
  {
   "cell_type": "code",
   "execution_count": 31,
   "id": "77d51fa2",
   "metadata": {},
   "outputs": [
    {
     "data": {
      "text/plain": [
       "<All keys matched successfully>"
      ]
     },
     "execution_count": 31,
     "metadata": {},
     "output_type": "execute_result"
    }
   ],
   "source": [
    "train_cfg = {'dataset' : {'dirpath': '../data/', 'keys': ['historical', 'ssp126', 'ssp245', 'ssp585']}}\n",
    "train_data = plaingp.make_data(train_cfg)\n",
    "\n",
    "test_cfg = {'dataset' : {'dirpath': '../data/', 'keys': ['ssp370']}}\n",
    "test_data = plaingp.make_data(test_cfg)\n",
    "\n",
    "model = plaingp.make_model(train_cfg, train_data)\n",
    "state_dict = torch.load('../data/models/leave-one-out-ssp/ssp370/SpatialPlainGP/state_dict.pt')\n",
    "model.load_state_dict(state_dict)"
   ]
  },
  {
   "cell_type": "code",
   "execution_count": 32,
   "id": "c2bd0576",
   "metadata": {},
   "outputs": [],
   "source": [
    "test_scenarios = test_data.scenarios\n",
    "Xtest = test_scenarios.glob_inputs[:, 1:]\n",
    "Xtest = (Xtest - model.mu) / model.sigma\n",
    "test_tas = test_scenarios.tas\n",
    "model = model.eval()"
   ]
  },
  {
   "cell_type": "code",
   "execution_count": 33,
   "id": "349e1504",
   "metadata": {},
   "outputs": [],
   "source": [
    "with torch.no_grad():\n",
    "    posterior = model.posterior(Xtest, diag=False)\n",
    "    posterior = model.likelihood(posterior)"
   ]
  },
  {
   "cell_type": "code",
   "execution_count": 34,
   "id": "42369b3e",
   "metadata": {},
   "outputs": [],
   "source": [
    "nlat = len(test_scenarios[0].lat)\n",
    "nlon = len(test_scenarios[0].lon)\n",
    "ntimes = len(test_scenarios[0].timesteps)\n",
    "time_slice = slice(-21, None)\n",
    "\n",
    "prior_mean = model.mu_targets.view(1, nlat, nlon).repeat(ntimes, 1, 1)\n",
    "posterior_mean = posterior.mean.reshape(nlat, nlon, -1).permute(2, 0, 1)\n",
    "posterior_correction =  model.sigma_targets.view(1, nlat, nlon) * posterior_mean\n",
    "posterior_mean = prior_mean + posterior_mean\n",
    "\n",
    "posterior_stddev = posterior.stddev.reshape(nlat, nlon, -1).permute(2, 0, 1)\n",
    "posterior_stddev = model.sigma_targets.view(1, nlat, nlon) * posterior_stddev\n",
    "\n",
    "prediction = torch.distributions.Normal(posterior_mean[time_slice], posterior_stddev[time_slice])\n",
    "groundtruth = test_tas[time_slice]\n",
    "wlat = torch.cos(torch.deg2rad(test_scenarios[0].lat)).clip(min=torch.finfo(torch.float64).eps)[:, None]"
   ]
  },
  {
   "cell_type": "code",
   "execution_count": 35,
   "id": "a72f8b11",
   "metadata": {},
   "outputs": [],
   "source": [
    "metrics_ssp370 = {**compute_deterministic_metrics(prediction.mean, groundtruth, wlat),\n",
    "                  **compute_probabilistic_metrics(prediction, groundtruth, wlat)}"
   ]
  },
  {
   "cell_type": "markdown",
   "id": "04ff198c",
   "metadata": {},
   "source": [
    "### SSP585"
   ]
  },
  {
   "cell_type": "code",
   "execution_count": 12,
   "id": "44441d52",
   "metadata": {},
   "outputs": [
    {
     "data": {
      "text/plain": [
       "<All keys matched successfully>"
      ]
     },
     "execution_count": 12,
     "metadata": {},
     "output_type": "execute_result"
    }
   ],
   "source": [
    "train_cfg = {'dataset' : {'dirpath': '../data/', 'keys': ['historical', 'ssp126', 'ssp245', 'ssp370']} , 'response_var': 'pr'}\n",
    "train_data = plaingp.make_data(train_cfg)\n",
    "\n",
    "test_cfg = {'dataset' : {'dirpath': '../data/', 'keys': ['ssp585']} , 'response_var': 'pr'}\n",
    "test_data = plaingp.make_data(test_cfg)\n",
    "\n",
    "model = plaingp.make_model(train_cfg, train_data)\n",
    "#state_dict = torch.load('../data/models/leave-one-out-ssp/ssp585/SpatialPlainGP/state_dict.pt')\n",
    "state_dict = torch.load('../spatial_plain_gp_output/state_dict.pt')\n",
    "model.load_state_dict(state_dict)"
   ]
  },
  {
   "cell_type": "code",
   "execution_count": 13,
   "id": "69208419",
   "metadata": {},
   "outputs": [],
   "source": [
    "test_scenarios = test_data.scenarios\n",
    "Xtest = test_scenarios.glob_inputs[:, 1:]\n",
    "Xtest = (Xtest - model.mu) / model.sigma\n",
    "test_tas = test_scenarios.response_var\n",
    "model = model.eval()"
   ]
  },
  {
   "cell_type": "code",
   "execution_count": 14,
   "id": "def90658",
   "metadata": {},
   "outputs": [],
   "source": [
    "with torch.no_grad():\n",
    "    posterior = model.posterior(Xtest, diag=False)\n",
    "    posterior = model.likelihood(posterior)"
   ]
  },
  {
   "cell_type": "code",
   "execution_count": 15,
   "id": "e99c7b8c",
   "metadata": {},
   "outputs": [],
   "source": [
    "nlat = len(test_scenarios[0].lat)\n",
    "nlon = len(test_scenarios[0].lon)\n",
    "ntimes = len(test_scenarios[0].timesteps)\n",
    "time_slice = slice(-21, None)\n",
    "\n",
    "prior_mean = model.mu_targets.view(1, nlat, nlon).repeat(ntimes, 1, 1)\n",
    "posterior_mean = posterior.mean.reshape(nlat, nlon, -1).permute(2, 0, 1)\n",
    "posterior_correction =  model.sigma_targets.view(1, nlat, nlon) * posterior_mean\n",
    "posterior_mean = prior_mean + posterior_mean\n",
    "\n",
    "posterior_stddev = posterior.stddev.reshape(nlat, nlon, -1).permute(2, 0, 1)\n",
    "posterior_stddev = model.sigma_targets.view(1, nlat, nlon) * posterior_stddev\n",
    "\n",
    "prediction = torch.distributions.Normal(posterior_mean[time_slice], posterior_stddev[time_slice])\n",
    "groundtruth = test_tas[time_slice]\n",
    "wlat = torch.cos(torch.deg2rad(test_scenarios[0].lat)).clip(min=torch.finfo(torch.float64).eps)[:, None]"
   ]
  },
  {
   "cell_type": "code",
   "execution_count": 16,
   "id": "25604dd2",
   "metadata": {},
   "outputs": [],
   "source": [
    "metrics_ssp585 = {**compute_deterministic_metrics(prediction.mean, groundtruth, wlat),\n",
    "                  **compute_probabilistic_metrics(prediction, groundtruth, wlat)}"
   ]
  },
  {
   "cell_type": "code",
   "execution_count": 17,
   "id": "3708df50",
   "metadata": {},
   "outputs": [
    {
     "data": {
      "text/plain": [
       "['SSP126', 'SSP245', 'SSP370', 'SSP585']"
      ]
     },
     "execution_count": 17,
     "metadata": {},
     "output_type": "execute_result"
    }
   ],
   "source": [
    "ssps"
   ]
  },
  {
   "cell_type": "code",
   "execution_count": 18,
   "id": "6301bb2f",
   "metadata": {},
   "outputs": [
    {
     "data": {
      "text/html": [
       "<div>\n",
       "<style scoped>\n",
       "    .dataframe tbody tr th:only-of-type {\n",
       "        vertical-align: middle;\n",
       "    }\n",
       "\n",
       "    .dataframe tbody tr th {\n",
       "        vertical-align: top;\n",
       "    }\n",
       "\n",
       "    .dataframe thead th {\n",
       "        text-align: right;\n",
       "    }\n",
       "</style>\n",
       "<table border=\"1\" class=\"dataframe\">\n",
       "  <thead>\n",
       "    <tr style=\"text-align: right;\">\n",
       "      <th></th>\n",
       "      <th>mb</th>\n",
       "      <th>rmse</th>\n",
       "      <th>mae</th>\n",
       "      <th>corr</th>\n",
       "      <th>ll</th>\n",
       "      <th>calib95</th>\n",
       "      <th>CRPS</th>\n",
       "    </tr>\n",
       "    <tr>\n",
       "      <th>SSP</th>\n",
       "      <th></th>\n",
       "      <th></th>\n",
       "      <th></th>\n",
       "      <th></th>\n",
       "      <th></th>\n",
       "      <th></th>\n",
       "      <th></th>\n",
       "    </tr>\n",
       "  </thead>\n",
       "  <tbody>\n",
       "    <tr>\n",
       "      <th>SSP585</th>\n",
       "      <td>0.118038</td>\n",
       "      <td>0.477741</td>\n",
       "      <td>0.381884</td>\n",
       "      <td>0.335349</td>\n",
       "      <td>-1.653220e+11</td>\n",
       "      <td>0.000018</td>\n",
       "      <td>0.381881</td>\n",
       "    </tr>\n",
       "  </tbody>\n",
       "</table>\n",
       "</div>"
      ],
      "text/plain": [
       "              mb      rmse       mae      corr            ll   calib95  \\\n",
       "SSP                                                                      \n",
       "SSP585  0.118038  0.477741  0.381884  0.335349 -1.653220e+11  0.000018   \n",
       "\n",
       "            CRPS  \n",
       "SSP               \n",
       "SSP585  0.381881  "
      ]
     },
     "execution_count": 18,
     "metadata": {},
     "output_type": "execute_result"
    }
   ],
   "source": [
    "#metrics_plaingp = [metrics_ssp126, metrics_ssp245, metrics_ssp370, metrics_ssp585]\n",
    "metrics_plaingp = [metrics_ssp585]\n",
    "scores_plaingp = pd.DataFrame(metrics_plaingp)\n",
    "#scores_plaingp.index = ssps\n",
    "scores_plaingp.index = ['SSP585']\n",
    "scores_plaingp.index.name = 'SSP'\n",
    "scores_plaingp"
   ]
  },
  {
   "cell_type": "markdown",
   "id": "d43b2b4e",
   "metadata": {},
   "source": [
    "# FaIRGP"
   ]
  },
  {
   "cell_type": "markdown",
   "id": "6a378b8a",
   "metadata": {},
   "source": [
    "### SSP126"
   ]
  },
  {
   "cell_type": "code",
   "execution_count": 42,
   "id": "02fd6435",
   "metadata": {},
   "outputs": [
    {
     "data": {
      "text/plain": [
       "<All keys matched successfully>"
      ]
     },
     "execution_count": 42,
     "metadata": {},
     "output_type": "execute_result"
    }
   ],
   "source": [
    "train_cfg = {'dataset' : {'dirpath': '../data/', 'keys': ['historical', 'ssp245', 'ssp370', 'ssp585']}}\n",
    "train_data = fairgp.make_data(train_cfg)\n",
    "\n",
    "test_cfg = {'dataset' : {'dirpath': '../data/', 'keys': ['ssp126']}}\n",
    "test_data = fairgp.make_data(test_cfg)\n",
    "\n",
    "model = fairgp.make_model(train_cfg, train_data)\n",
    "state_dict = torch.load('../data/models/leave-one-out-ssp/ssp126/SpatialFaIRGP/state_dict.pt')\n",
    "model.load_state_dict(state_dict)"
   ]
  },
  {
   "cell_type": "code",
   "execution_count": 43,
   "id": "7214d4ce",
   "metadata": {},
   "outputs": [],
   "source": [
    "test_scenarios = test_data.scenarios\n",
    "test_tas = test_scenarios.tas\n",
    "\n",
    "model = model.eval()\n",
    "with torch.no_grad():\n",
    "    posterior = model.posterior(test_scenarios, diag=False)\n",
    "    posterior = model.likelihood(posterior)"
   ]
  },
  {
   "cell_type": "code",
   "execution_count": 44,
   "id": "b901721f",
   "metadata": {},
   "outputs": [],
   "source": [
    "nlat = len(test_scenarios[0].lat)\n",
    "nlon = len(test_scenarios[0].lon)\n",
    "time_slice = slice(-21, None)\n",
    "\n",
    "prior_mean = model._compute_means(test_scenarios)['ssp126']\n",
    "posterior_mean = posterior.mean.reshape(nlat, nlon, -1).permute(2, 0, 1)\n",
    "posterior_correction = model.mu_targets + model.sigma_targets * posterior_mean\n",
    "posterior_correction = model.beta.unsqueeze(0) * posterior_correction\n",
    "posterior_mean = prior_mean + posterior_correction\n",
    "\n",
    "posterior_stddev = posterior.stddev.reshape(nlat, nlon, -1).permute(2, 0, 1)\n",
    "posterior_stddev = model.sigma_targets * posterior_stddev * torch.abs(model.beta.unsqueeze(0))\n",
    "\n",
    "prediction = torch.distributions.Normal(posterior_mean[time_slice], posterior_stddev[time_slice])\n",
    "groundtruth = test_tas[time_slice]"
   ]
  },
  {
   "cell_type": "code",
   "execution_count": 45,
   "id": "e8432796",
   "metadata": {},
   "outputs": [],
   "source": [
    "metrics_ssp126 = {**compute_deterministic_metrics(prediction.mean, groundtruth, wlat),\n",
    "                  **compute_probabilistic_metrics(prediction, groundtruth, wlat)}"
   ]
  },
  {
   "cell_type": "markdown",
   "id": "d1374055",
   "metadata": {},
   "source": [
    "### SSP245"
   ]
  },
  {
   "cell_type": "code",
   "execution_count": 46,
   "id": "f462ab40",
   "metadata": {},
   "outputs": [
    {
     "data": {
      "text/plain": [
       "<All keys matched successfully>"
      ]
     },
     "execution_count": 46,
     "metadata": {},
     "output_type": "execute_result"
    }
   ],
   "source": [
    "train_cfg = {'dataset' : {'dirpath': '../data/', 'keys': ['historical', 'ssp126', 'ssp370', 'ssp585']}}\n",
    "train_data = fairgp.make_data(train_cfg)\n",
    "\n",
    "test_cfg = {'dataset' : {'dirpath': '../data/', 'keys': ['ssp245']}}\n",
    "test_data = fairgp.make_data(test_cfg)\n",
    "\n",
    "model = fairgp.make_model(train_cfg, train_data)\n",
    "state_dict = torch.load('../data/models/leave-one-out-ssp/ssp245/SpatialFaIRGP/state_dict.pt')\n",
    "model.load_state_dict(state_dict)"
   ]
  },
  {
   "cell_type": "code",
   "execution_count": 47,
   "id": "0c477f8c",
   "metadata": {},
   "outputs": [],
   "source": [
    "test_scenarios = test_data.scenarios\n",
    "test_tas = test_scenarios.tas\n",
    "\n",
    "model = model.eval()\n",
    "with torch.no_grad():\n",
    "    posterior = model.posterior(test_scenarios, diag=False)\n",
    "    posterior = model.likelihood(posterior)"
   ]
  },
  {
   "cell_type": "code",
   "execution_count": 48,
   "id": "e3a541ec",
   "metadata": {},
   "outputs": [],
   "source": [
    "nlat = len(test_scenarios[0].lat)\n",
    "nlon = len(test_scenarios[0].lon)\n",
    "time_slice = slice(-21, None)\n",
    "\n",
    "prior_mean = model._compute_means(test_scenarios)['ssp245']\n",
    "posterior_mean = posterior.mean.reshape(nlat, nlon, -1).permute(2, 0, 1)\n",
    "posterior_correction = model.mu_targets + model.sigma_targets * posterior_mean\n",
    "posterior_correction = model.beta.unsqueeze(0) * posterior_correction\n",
    "posterior_mean = prior_mean + posterior_correction\n",
    "\n",
    "posterior_stddev = posterior.stddev.reshape(nlat, nlon, -1).permute(2, 0, 1)\n",
    "posterior_stddev = model.sigma_targets * posterior_stddev * torch.abs(model.beta.unsqueeze(0))\n",
    "\n",
    "prediction = torch.distributions.Normal(posterior_mean[time_slice], posterior_stddev[time_slice])\n",
    "groundtruth = test_tas[time_slice]"
   ]
  },
  {
   "cell_type": "code",
   "execution_count": 49,
   "id": "6dd3b644",
   "metadata": {},
   "outputs": [],
   "source": [
    "metrics_ssp245 = {**compute_deterministic_metrics(prediction.mean, groundtruth, wlat),\n",
    "                  **compute_probabilistic_metrics(prediction, groundtruth, wlat)}"
   ]
  },
  {
   "cell_type": "markdown",
   "id": "4f29fc44",
   "metadata": {},
   "source": [
    "### SSP370"
   ]
  },
  {
   "cell_type": "code",
   "execution_count": 50,
   "id": "16916f76",
   "metadata": {},
   "outputs": [
    {
     "data": {
      "text/plain": [
       "<All keys matched successfully>"
      ]
     },
     "execution_count": 50,
     "metadata": {},
     "output_type": "execute_result"
    }
   ],
   "source": [
    "train_cfg = {'dataset' : {'dirpath': '../data/', 'keys': ['historical', 'ssp126', 'ssp245', 'ssp585']}}\n",
    "train_data = fairgp.make_data(train_cfg)\n",
    "\n",
    "test_cfg = {'dataset' : {'dirpath': '../data/', 'keys': ['ssp370']}}\n",
    "test_data = fairgp.make_data(test_cfg)\n",
    "\n",
    "model = fairgp.make_model(train_cfg, train_data)\n",
    "state_dict = torch.load('../data/models/leave-one-out-ssp/ssp370/SpatialFaIRGP/state_dict.pt')\n",
    "model.load_state_dict(state_dict)"
   ]
  },
  {
   "cell_type": "code",
   "execution_count": 51,
   "id": "a43586d1",
   "metadata": {},
   "outputs": [],
   "source": [
    "test_scenarios = test_data.scenarios\n",
    "test_tas = test_scenarios.tas\n",
    "\n",
    "model = model.eval()\n",
    "with torch.no_grad():\n",
    "    posterior = model.posterior(test_scenarios, diag=False)\n",
    "    posterior = model.likelihood(posterior)"
   ]
  },
  {
   "cell_type": "code",
   "execution_count": 52,
   "id": "6c1b8bde",
   "metadata": {},
   "outputs": [],
   "source": [
    "nlat = len(test_scenarios[0].lat)\n",
    "nlon = len(test_scenarios[0].lon)\n",
    "time_slice = slice(-21, None)\n",
    "\n",
    "prior_mean = model._compute_means(test_scenarios)['ssp370']\n",
    "posterior_mean = posterior.mean.reshape(nlat, nlon, -1).permute(2, 0, 1)\n",
    "posterior_correction = model.mu_targets + model.sigma_targets * posterior_mean\n",
    "posterior_correction = model.beta.unsqueeze(0) * posterior_correction\n",
    "posterior_mean = prior_mean + posterior_correction\n",
    "\n",
    "posterior_stddev = posterior.stddev.reshape(nlat, nlon, -1).permute(2, 0, 1)\n",
    "posterior_stddev = model.sigma_targets * posterior_stddev * torch.abs(model.beta.unsqueeze(0))\n",
    "\n",
    "prediction = torch.distributions.Normal(posterior_mean[time_slice], posterior_stddev[time_slice])\n",
    "groundtruth = test_tas[time_slice]"
   ]
  },
  {
   "cell_type": "code",
   "execution_count": 53,
   "id": "8fe27f99",
   "metadata": {},
   "outputs": [],
   "source": [
    "metrics_ssp370 = {**compute_deterministic_metrics(prediction.mean, groundtruth, wlat),\n",
    "                  **compute_probabilistic_metrics(prediction, groundtruth, wlat)}"
   ]
  },
  {
   "cell_type": "markdown",
   "id": "f2e00729",
   "metadata": {},
   "source": [
    "### SSP585"
   ]
  },
  {
   "cell_type": "code",
   "execution_count": 22,
   "id": "e411f3ae",
   "metadata": {},
   "outputs": [
    {
     "data": {
      "text/plain": [
       "<All keys matched successfully>"
      ]
     },
     "execution_count": 22,
     "metadata": {},
     "output_type": "execute_result"
    }
   ],
   "source": [
    "train_cfg = {'dataset' : {'dirpath': '../data/', 'keys': ['historical', 'ssp126', 'ssp245', 'ssp370']}, 'response_var': 'pr'}\n",
    "train_data = fairgp.make_data(train_cfg)\n",
    "\n",
    "test_cfg = {'dataset' : {'dirpath': '../data/', 'keys': ['ssp585']}, 'response_var': 'pr'}\n",
    "test_data = fairgp.make_data(test_cfg)\n",
    "\n",
    "model = fairgp.make_model(train_cfg, train_data)\n",
    "state_dict = torch.load('../spatial_fairgp_output/state_dict.pt')\n",
    "model.load_state_dict(state_dict)"
   ]
  },
  {
   "cell_type": "code",
   "execution_count": 23,
   "id": "40e4e8a3",
   "metadata": {},
   "outputs": [],
   "source": [
    "test_scenarios = test_data.scenarios\n",
    "#test_tas = test_scenarios.tas\n",
    "test_tas = test_scenarios.response_var\n",
    "\n",
    "model = model.eval()\n",
    "with torch.no_grad():\n",
    "    posterior = model.posterior(test_scenarios, diag=False)\n",
    "    posterior = model.likelihood(posterior)"
   ]
  },
  {
   "cell_type": "code",
   "execution_count": 24,
   "id": "cb57f243",
   "metadata": {},
   "outputs": [],
   "source": [
    "nlat = len(test_scenarios[0].lat)\n",
    "nlon = len(test_scenarios[0].lon)\n",
    "time_slice = slice(-21, None)\n",
    "\n",
    "prior_mean = model._compute_means(test_scenarios)['ssp585']\n",
    "posterior_mean = posterior.mean.reshape(nlat, nlon, -1).permute(2, 0, 1)\n",
    "posterior_correction = model.mu_targets + model.sigma_targets * posterior_mean\n",
    "posterior_correction = model.beta.unsqueeze(0) * posterior_correction\n",
    "posterior_mean = prior_mean + posterior_correction\n",
    "\n",
    "posterior_stddev = posterior.stddev.reshape(nlat, nlon, -1).permute(2, 0, 1)\n",
    "posterior_stddev = model.sigma_targets * posterior_stddev * torch.abs(model.beta.unsqueeze(0))\n",
    "\n",
    "prediction = torch.distributions.Normal(posterior_mean[time_slice], posterior_stddev[time_slice])\n",
    "groundtruth = test_tas[time_slice]"
   ]
  },
  {
   "cell_type": "code",
   "execution_count": 25,
   "id": "76a6503d",
   "metadata": {},
   "outputs": [],
   "source": [
    "metrics_ssp585 = {**compute_deterministic_metrics(prediction.mean, groundtruth, wlat),\n",
    "                  **compute_probabilistic_metrics(prediction, groundtruth, wlat)}"
   ]
  },
  {
   "cell_type": "code",
   "execution_count": 26,
   "id": "8f1b2b1c",
   "metadata": {},
   "outputs": [
    {
     "data": {
      "text/html": [
       "<div>\n",
       "<style scoped>\n",
       "    .dataframe tbody tr th:only-of-type {\n",
       "        vertical-align: middle;\n",
       "    }\n",
       "\n",
       "    .dataframe tbody tr th {\n",
       "        vertical-align: top;\n",
       "    }\n",
       "\n",
       "    .dataframe thead th {\n",
       "        text-align: right;\n",
       "    }\n",
       "</style>\n",
       "<table border=\"1\" class=\"dataframe\">\n",
       "  <thead>\n",
       "    <tr style=\"text-align: right;\">\n",
       "      <th></th>\n",
       "      <th>mb</th>\n",
       "      <th>rmse</th>\n",
       "      <th>mae</th>\n",
       "      <th>corr</th>\n",
       "      <th>ll</th>\n",
       "      <th>calib95</th>\n",
       "      <th>CRPS</th>\n",
       "    </tr>\n",
       "    <tr>\n",
       "      <th>SSP</th>\n",
       "      <th></th>\n",
       "      <th></th>\n",
       "      <th></th>\n",
       "      <th></th>\n",
       "      <th></th>\n",
       "      <th></th>\n",
       "      <th></th>\n",
       "    </tr>\n",
       "  </thead>\n",
       "  <tbody>\n",
       "    <tr>\n",
       "      <th>SSP585</th>\n",
       "      <td>0.489339</td>\n",
       "      <td>4.501308</td>\n",
       "      <td>2.272548</td>\n",
       "      <td>0.389457</td>\n",
       "      <td>-1.989164</td>\n",
       "      <td>0.571431</td>\n",
       "      <td>1.636987</td>\n",
       "    </tr>\n",
       "  </tbody>\n",
       "</table>\n",
       "</div>"
      ],
      "text/plain": [
       "              mb      rmse       mae      corr        ll   calib95      CRPS\n",
       "SSP                                                                         \n",
       "SSP585  0.489339  4.501308  2.272548  0.389457 -1.989164  0.571431  1.636987"
      ]
     },
     "execution_count": 26,
     "metadata": {},
     "output_type": "execute_result"
    }
   ],
   "source": [
    "#metrics_fairgp = [metrics_ssp126, metrics_ssp245, metrics_ssp370, metrics_ssp585]\n",
    "metrics_fairgp = [metrics_ssp585]\n",
    "scores_fairgp = pd.DataFrame(metrics_fairgp)\n",
    "#scores_fairgp.index = ssps\n",
    "scores_fairgp.index = ['SSP585']\n",
    "scores_fairgp.index.name = 'SSP'\n",
    "scores_fairgp"
   ]
  },
  {
   "cell_type": "markdown",
   "id": "520b1a8b",
   "metadata": {},
   "source": [
    "---"
   ]
  },
  {
   "cell_type": "code",
   "execution_count": 27,
   "id": "8171fcce",
   "metadata": {},
   "outputs": [],
   "source": [
    "pattern_scaling_summary = scores_pattern_scaling.aggregate(['mean', 'std'])\n",
    "gp_summary = scores_plaingp.aggregate(['mean', 'std'])\n",
    "fairgp_summary = scores_fairgp.aggregate(['mean', 'std'])\n",
    "\n",
    "scores_pattern_scaling = pd.concat([scores_pattern_scaling, pattern_scaling_summary])\n",
    "scores_plaingp = pd.concat([scores_plaingp, gp_summary])\n",
    "scores_fairgp = pd.concat([scores_fairgp, fairgp_summary])"
   ]
  },
  {
   "cell_type": "code",
   "execution_count": 79,
   "id": "d62913f1",
   "metadata": {},
   "outputs": [],
   "source": [
    "scores_fairgp['Model'] = '2FaIRGP'\n",
    "scores_plaingp['Model'] = '1Plain GP'\n",
    "scores_pattern_scaling['Model'] = '0FaIR'\n",
    "metrics_cols = ['Bias', 'RMSE', 'MAE', 'Corr', 'LL', 'Calib95', 'CRPS']\n",
    "full_scores = pd.concat([scores_fairgp, scores_plaingp, scores_pattern_scaling]).sort_index().set_index('Model', append=True)\n",
    "full_scores.columns = metrics_cols\n",
    "full_scores = full_scores[['RMSE', 'MAE', 'Bias', 'Corr', 'LL', 'Calib95', 'CRPS']].sort_index().round(3)"
   ]
  },
  {
   "cell_type": "code",
   "execution_count": 80,
   "id": "28c0d146",
   "metadata": {
    "scrolled": true
   },
   "outputs": [
    {
     "data": {
      "text/html": [
       "<div>\n",
       "<style scoped>\n",
       "    .dataframe tbody tr th:only-of-type {\n",
       "        vertical-align: middle;\n",
       "    }\n",
       "\n",
       "    .dataframe tbody tr th {\n",
       "        vertical-align: top;\n",
       "    }\n",
       "\n",
       "    .dataframe thead th {\n",
       "        text-align: right;\n",
       "    }\n",
       "</style>\n",
       "<table border=\"1\" class=\"dataframe\">\n",
       "  <thead>\n",
       "    <tr style=\"text-align: right;\">\n",
       "      <th></th>\n",
       "      <th></th>\n",
       "      <th>RMSE</th>\n",
       "      <th>MAE</th>\n",
       "      <th>Bias</th>\n",
       "      <th>LL</th>\n",
       "      <th>Calib95</th>\n",
       "      <th>CRPS</th>\n",
       "    </tr>\n",
       "    <tr>\n",
       "      <th></th>\n",
       "      <th>Model</th>\n",
       "      <th></th>\n",
       "      <th></th>\n",
       "      <th></th>\n",
       "      <th></th>\n",
       "      <th></th>\n",
       "      <th></th>\n",
       "    </tr>\n",
       "  </thead>\n",
       "  <tbody>\n",
       "    <tr>\n",
       "      <th rowspan=\"3\" valign=\"top\">SSP585</th>\n",
       "      <th>0FaIR</th>\n",
       "      <td>27.85</td>\n",
       "      <td>15.255</td>\n",
       "      <td>3.285</td>\n",
       "      <td>-</td>\n",
       "      <td>-</td>\n",
       "      <td>-</td>\n",
       "    </tr>\n",
       "    <tr>\n",
       "      <th>1Plain GP</th>\n",
       "      <td>0.478</td>\n",
       "      <td>0.382</td>\n",
       "      <td>0.118</td>\n",
       "      <td>-165321965568.0</td>\n",
       "      <td>0.0</td>\n",
       "      <td>0.382</td>\n",
       "    </tr>\n",
       "    <tr>\n",
       "      <th>2FaIRGP</th>\n",
       "      <td>4.501</td>\n",
       "      <td>2.273</td>\n",
       "      <td>0.489</td>\n",
       "      <td>-1.989</td>\n",
       "      <td>0.571</td>\n",
       "      <td>1.637</td>\n",
       "    </tr>\n",
       "    <tr>\n",
       "      <th rowspan=\"3\" valign=\"top\">mean</th>\n",
       "      <th>0FaIR</th>\n",
       "      <td>27.85</td>\n",
       "      <td>15.255</td>\n",
       "      <td>3.285</td>\n",
       "      <td>-</td>\n",
       "      <td>-</td>\n",
       "      <td>-</td>\n",
       "    </tr>\n",
       "    <tr>\n",
       "      <th>1Plain GP</th>\n",
       "      <td>0.478</td>\n",
       "      <td>0.382</td>\n",
       "      <td>0.118</td>\n",
       "      <td>-165321965568.0</td>\n",
       "      <td>0.0</td>\n",
       "      <td>0.382</td>\n",
       "    </tr>\n",
       "    <tr>\n",
       "      <th>2FaIRGP</th>\n",
       "      <td>4.501</td>\n",
       "      <td>2.273</td>\n",
       "      <td>0.489</td>\n",
       "      <td>-1.989</td>\n",
       "      <td>0.571</td>\n",
       "      <td>1.637</td>\n",
       "    </tr>\n",
       "    <tr>\n",
       "      <th rowspan=\"3\" valign=\"top\">std</th>\n",
       "      <th>0FaIR</th>\n",
       "      <td>-</td>\n",
       "      <td>-</td>\n",
       "      <td>-</td>\n",
       "      <td>-</td>\n",
       "      <td>-</td>\n",
       "      <td>-</td>\n",
       "    </tr>\n",
       "    <tr>\n",
       "      <th>1Plain GP</th>\n",
       "      <td>-</td>\n",
       "      <td>-</td>\n",
       "      <td>-</td>\n",
       "      <td>-</td>\n",
       "      <td>-</td>\n",
       "      <td>-</td>\n",
       "    </tr>\n",
       "    <tr>\n",
       "      <th>2FaIRGP</th>\n",
       "      <td>-</td>\n",
       "      <td>-</td>\n",
       "      <td>-</td>\n",
       "      <td>-</td>\n",
       "      <td>-</td>\n",
       "      <td>-</td>\n",
       "    </tr>\n",
       "  </tbody>\n",
       "</table>\n",
       "</div>"
      ],
      "text/plain": [
       "                   RMSE     MAE   Bias              LL Calib95   CRPS\n",
       "       Model                                                         \n",
       "SSP585 0FaIR      27.85  15.255  3.285               -       -      -\n",
       "       1Plain GP  0.478   0.382  0.118 -165321965568.0     0.0  0.382\n",
       "       2FaIRGP    4.501   2.273  0.489          -1.989   0.571  1.637\n",
       "mean   0FaIR      27.85  15.255  3.285               -       -      -\n",
       "       1Plain GP  0.478   0.382  0.118 -165321965568.0     0.0  0.382\n",
       "       2FaIRGP    4.501   2.273  0.489          -1.989   0.571  1.637\n",
       "std    0FaIR          -       -      -               -       -      -\n",
       "       1Plain GP      -       -      -               -       -      -\n",
       "       2FaIRGP        -       -      -               -       -      -"
      ]
     },
     "execution_count": 80,
     "metadata": {},
     "output_type": "execute_result"
    }
   ],
   "source": [
    "results = full_scores[['RMSE', 'MAE', 'Bias', 'LL', 'Calib95', 'CRPS']].fillna('-')\n",
    "# results.to_latex('./tables/ssp-experiment-spatial-scores.tex')\n",
    "results"
   ]
  },
  {
   "cell_type": "code",
   "execution_count": null,
   "id": "405a497b",
   "metadata": {},
   "outputs": [],
   "source": []
  }
 ],
 "metadata": {
  "kernelspec": {
   "display_name": "mypython38",
   "language": "python",
   "name": "python3"
  },
  "language_info": {
   "codemirror_mode": {
    "name": "ipython",
    "version": 3
   },
   "file_extension": ".py",
   "mimetype": "text/x-python",
   "name": "python",
   "nbconvert_exporter": "python",
   "pygments_lexer": "ipython3",
   "version": "3.8.20"
  }
 },
 "nbformat": 4,
 "nbformat_minor": 5
}
